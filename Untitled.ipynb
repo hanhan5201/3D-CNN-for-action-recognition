{
 "cells": [
  {
   "cell_type": "code",
   "execution_count": 1,
   "id": "25564547",
   "metadata": {},
   "outputs": [
    {
     "name": "stderr",
     "output_type": "stream",
     "text": [
      "WARNING (theano.configdefaults): g++ not available, if using conda: `conda install m2w64-toolchain`\n",
      "D:\\Soft\\anaconda3\\lib\\site-packages\\theano\\configdefaults.py:560: UserWarning: DeprecationWarning: there is no c++ compiler.This is deprecated and with Theano 0.11 a c++ compiler will be mandatory\n",
      "  warnings.warn(\"DeprecationWarning: there is no c++ compiler.\"\n",
      "WARNING (theano.configdefaults): g++ not detected ! Theano will be unable to execute optimized C-implementations (for both CPU and GPU) and will default to Python implementations. Performance will be severely degraded. To remove this warning, set Theano flags cxx to an empty string.\n",
      "WARNING (theano.tensor.blas): Using NumPy C-API based implementation for BLAS functions.\n"
     ]
    },
    {
     "data": {
      "text/plain": [
       "('2.8.0', '2.8.0')"
      ]
     },
     "execution_count": 1,
     "metadata": {},
     "output_type": "execute_result"
    }
   ],
   "source": [
    "import os\n",
    "import matplotlib\n",
    "import matplotlib.pyplot as plt\n",
    "import numpy as np\n",
    "import pandas as pd\n",
    "import cv2\n",
    "from sklearn.model_selection import train_test_split,cross_validate\n",
    "from sklearn import preprocessing\n",
    "import tensorflow as tf\n",
    "from tensorflow.keras.preprocessing.image import ImageDataGenerator\n",
    "from tensorflow.keras import Sequential\n",
    "from tensorflow.keras.optimizers import SGD,RMSprop\n",
    "import theano\n",
    "from tensorflow.keras import Input,Model\n",
    "from tensorflow.keras.layers import Dense,Flatten,Conv3D,MaxPooling3D,Dropout,BatchNormalization,concatenate,Activation\n",
    "from tensorflow.keras.utils import to_categorical\n",
    "import h5py\n",
    "import tensorflow.keras.backend as tfback\n",
    "import keras\n",
    "\n",
    "tf.keras.backend.set_image_data_format('channels_first')\n",
    "tf.__version__, keras.__version__"
   ]
  },
  {
   "cell_type": "code",
   "execution_count": 2,
   "id": "bba2c716",
   "metadata": {},
   "outputs": [
    {
     "data": {
      "text/plain": [
       "['boxing', 'handclapping', 'handwaving', 'jogging', 'running', 'walking']"
      ]
     },
     "execution_count": 2,
     "metadata": {},
     "output_type": "execute_result"
    }
   ],
   "source": [
    "path = r\"D:/Soft/Python/3D_CNN/KTH\"\n",
    "os.listdir(path)"
   ]
  },
  {
   "cell_type": "code",
   "execution_count": 3,
   "id": "ee3c3735",
   "metadata": {},
   "outputs": [],
   "source": [
    "# image specification\n",
    "img_rows,img_cols,img_depth=80,60,9\n",
    "# Training data\n",
    "X_tr=[]           # variable to store entire dataset"
   ]
  },
  {
   "cell_type": "code",
   "execution_count": 4,
   "id": "2d01816a",
   "metadata": {},
   "outputs": [
    {
     "name": "stdout",
     "output_type": "stream",
     "text": [
      "100\n",
      "99\n",
      "100\n",
      "100\n",
      "100\n",
      "100\n"
     ]
    }
   ],
   "source": [
    "folders = os.listdir(path)\n",
    "for folder in folders:\n",
    "  if 'zip' not in folder:\n",
    "    filepath = os.path.join(path, folder)\n",
    "    files = os.listdir(filepath)\n",
    "    print(len(files))"
   ]
  },
  {
   "cell_type": "code",
   "execution_count": 5,
   "id": "f8674d88",
   "metadata": {},
   "outputs": [
    {
     "name": "stdout",
     "output_type": "stream",
     "text": [
      "599\n"
     ]
    }
   ],
   "source": [
    "path = r\"D:/Soft/Python/3D_CNN/KTH\"\n",
    "folders = os.listdir(path)\n",
    "for folder in folders:\n",
    "  if 'zip' not in folder:\n",
    "    filepath = os.path.join(path, folder)\n",
    "    files = os.listdir(filepath)\n",
    "    for file in files:\n",
    "      vid = os.path.join(path, folder, file)\n",
    "      frames1 = []\n",
    "      frames2 = []\n",
    "      frames3 = []\n",
    "      optflow = np.zeros((img_depth-1, img_rows, img_cols, 2))\n",
    "      optflow_x = np.zeros((img_depth-1, img_rows, img_cols, 2))\n",
    "      optflow_y = np.zeros((img_depth-1, img_rows, img_cols, 2))\n",
    "      cap = cv2.VideoCapture(vid)\n",
    "      fps = cap.get(5)\n",
    "      # print (\"Frames per second using video.get(cv2.cv.CV_CAP_PROP_FPS): {0}\".format(fps))\n",
    "      for k in range(img_depth):\n",
    "          ret, frame = cap.read()\n",
    "          frame=cv2.resize(frame,(img_rows,img_cols),interpolation=cv2.INTER_AREA)\n",
    "          gray = cv2.cvtColor(frame, cv2.COLOR_BGR2GRAY)\n",
    "          gradient_x = cv2.Sobel(gray,cv2.CV_64F,1,0,ksize=5)\n",
    "          gradient_y = cv2.Sobel(gray,cv2.CV_64F,0,1,ksize=5)\n",
    "          if k+1<img_depth:\n",
    "            optflow[k] = cv2.calcOpticalFlowFarneback(gray[k],gray[k+1], None, 0.5, 3, 15, 3, 5, 1.2, 0)\n",
    "          \n",
    "          frames1.append(gray)\n",
    "          frames2.append(gradient_x)\n",
    "          frames3.append(gradient_y)\n",
    "          # plt.imshow(gray, cmap = plt.get_cmap('gray'))\n",
    "          # plt.xticks([]), plt.yticks([])  # to hide tick values on X and Y axis\n",
    "          # plt.show()\n",
    "          # cv2.imshow('frame',gray)\n",
    "        \n",
    "\n",
    "          if cv2.waitKey(1) & 0xFF == ord('q'):\n",
    "              break\n",
    "      cap.release()\n",
    "      cv2.destroyAllWindows()\n",
    "      \n",
    "      optflow_x = cv2.normalize(optflow[...,0], None, 0, 255, cv2.NORM_MINMAX) \n",
    "      optflow_x = optflow_x.astype('uint8')  \n",
    "      optflow_y = cv2.normalize(optflow[...,1], None, 0, 255, cv2.NORM_MINMAX)\n",
    "      optflow_y = optflow_y.astype('uint8')\n",
    "      f1=np.array(frames1)\n",
    "      f2=np.array(frames2)\n",
    "      f3=np.array(frames3)\n",
    "      f4=np.array(optflow_x)\n",
    "      f5=np.array(optflow_y)\n",
    "      f4=np.reshape(f4,(img_depth-1,img_cols,img_rows))\n",
    "      f5=np.reshape(f5,(img_depth-1,img_cols,img_rows))\n",
    "\n",
    "      concat=np.concatenate((f1,f2,f3,f4,f5))\n",
    "      input=np.array(concat)\n",
    "      # print (input.shape)\n",
    "      ipt=np.rollaxis(np.rollaxis(input,2,0),2,0)\n",
    "      # print (ipt.shape)\n",
    "\n",
    "      X_tr.append(ipt)\n",
    "\n",
    "print(len(X_tr))"
   ]
  },
  {
   "cell_type": "code",
   "execution_count": 6,
   "id": "1784620e",
   "metadata": {},
   "outputs": [
    {
     "data": {
      "text/plain": [
       "(599, 80, 60, 43)"
      ]
     },
     "execution_count": 6,
     "metadata": {},
     "output_type": "execute_result"
    }
   ],
   "source": [
    "X_tr_array = np.array(X_tr) # convert the frames read into array\n",
    "X_tr_array = np.reshape(X_tr_array,(599,80,60,43))\n",
    "X_tr_array.shape"
   ]
  },
  {
   "cell_type": "code",
   "execution_count": 7,
   "id": "f417f874",
   "metadata": {},
   "outputs": [],
   "source": [
    "#Assign Label to each class\n",
    "num_samples = len(X_tr_array)\n",
    "label=np.ones((num_samples,),dtype = int)\n",
    "label[0:100]= 0\n",
    "label[100:200] = 1\n",
    "label[200:300] = 2\n",
    "label[300:400] = 3\n",
    "label[400:499]= 4\n",
    "label[499:] = 5"
   ]
  },
  {
   "cell_type": "code",
   "execution_count": 11,
   "id": "e14f7e9c",
   "metadata": {},
   "outputs": [
    {
     "name": "stdout",
     "output_type": "stream",
     "text": [
      "X_Train shape: (599, 80, 60, 43)\n",
      "(599, 1, 80, 60, 43) train samples\n"
     ]
    }
   ],
   "source": [
    "# 创建数据集\n",
    "train_data = [X_tr_array,label]\n",
    "(X_train, y_train) = (train_data[0],train_data[1])\n",
    "print('X_Train shape:', X_train.shape)\n",
    "\n",
    "train_set = np.zeros((num_samples, 1, img_rows,img_cols,43)) # 定义单通道\n",
    "\n",
    "for h in range(num_samples):\n",
    "  train_set[h][0][:][:][:]=X_train[h,:,:,:]\n",
    " \n",
    "\n",
    "patch_size = 43    # img_depth or number of frames used for each video\n",
    "\n",
    "print(train_set.shape, 'train samples')\n",
    "\n",
    "# CNN Training parameters\n",
    "\n",
    "batch_size = 2\n",
    "nb_classes =6 \n",
    "nb_epoch =50\n",
    "\n",
    "# convert class vectors to binary class matrices\n",
    "Y_train = to_categorical(y_train, nb_classes)\n",
    "\n",
    "'''\n",
    "# number of convolutional filters to use at each layer\n",
    "nb_filters = [32, 32]\n",
    "\n",
    "# level of pooling to perform at each layer (POOL x POOL)\n",
    "nb_pool = [3, 3]\n",
    "\n",
    "# level of convolution to perform at each layer (CONV x CONV)\n",
    "nb_conv = [5,5]\n",
    "'''\n",
    "# Pre-processing\n",
    "\n",
    "train_set = train_set.astype('float32')\n",
    "\n",
    "train_set -= np.mean(train_set)\n",
    "\n",
    "train_set /=np.max(train_set)"
   ]
  },
  {
   "cell_type": "code",
   "execution_count": 12,
   "id": "b14587d9",
   "metadata": {},
   "outputs": [
    {
     "data": {
      "text/plain": [
       "['/device:GPU:0']"
      ]
     },
     "execution_count": 12,
     "metadata": {},
     "output_type": "execute_result"
    }
   ],
   "source": [
    "def _get_available_gpus():\n",
    "    \"\"\"Get a list of available gpu devices (formatted as strings).\n",
    "\n",
    "    # Returns\n",
    "        A list of available GPU devices.\n",
    "    \"\"\"\n",
    "    #global _LOCAL_DEVICES\n",
    "\n",
    "    devices = tf.config.list_logical_devices()\n",
    "    tfback._LOCAL_DEVICES = [x.name for x in devices]\n",
    "    return [x for x in tfback._LOCAL_DEVICES if 'device:gpu' in x.lower()]\n",
    "tfback._get_available_gpus = _get_available_gpus\n",
    "tfback._get_available_gpus()"
   ]
  },
  {
   "cell_type": "code",
   "execution_count": 13,
   "id": "e7ee366a",
   "metadata": {},
   "outputs": [
    {
     "data": {
      "text/plain": [
       "[LogicalDevice(name='/device:CPU:0', device_type='CPU'),\n",
       " LogicalDevice(name='/device:GPU:0', device_type='GPU')]"
      ]
     },
     "execution_count": 13,
     "metadata": {},
     "output_type": "execute_result"
    }
   ],
   "source": [
    "tf.config.list_logical_devices()"
   ]
  },
  {
   "cell_type": "code",
   "execution_count": 14,
   "id": "401a55e0",
   "metadata": {},
   "outputs": [
    {
     "name": "stdout",
     "output_type": "stream",
     "text": [
      "Epoch 1/50\n",
      "240/240 [==============================] - 12s 20ms/step - loss: 2.7540 - accuracy: 0.2568 - val_loss: 2.2200 - val_accuracy: 0.2083\n",
      "Epoch 2/50\n",
      "240/240 [==============================] - 5s 19ms/step - loss: 2.0863 - accuracy: 0.3800 - val_loss: 1.2674 - val_accuracy: 0.3833\n",
      "Epoch 3/50\n",
      "240/240 [==============================] - 5s 19ms/step - loss: 1.8226 - accuracy: 0.4113 - val_loss: 0.9853 - val_accuracy: 0.5750\n",
      "Epoch 4/50\n",
      "240/240 [==============================] - 5s 19ms/step - loss: 1.4984 - accuracy: 0.4781 - val_loss: 0.9814 - val_accuracy: 0.5917\n",
      "Epoch 5/50\n",
      "240/240 [==============================] - 5s 19ms/step - loss: 1.3962 - accuracy: 0.4906 - val_loss: 1.1389 - val_accuracy: 0.5500\n",
      "Epoch 6/50\n",
      "240/240 [==============================] - 5s 19ms/step - loss: 1.1658 - accuracy: 0.5762 - val_loss: 1.0730 - val_accuracy: 0.5167\n",
      "Epoch 7/50\n",
      "240/240 [==============================] - 5s 19ms/step - loss: 1.0904 - accuracy: 0.5762 - val_loss: 1.1818 - val_accuracy: 0.5750\n",
      "Epoch 8/50\n",
      "240/240 [==============================] - 5s 19ms/step - loss: 1.0979 - accuracy: 0.5825 - val_loss: 0.9989 - val_accuracy: 0.5750\n",
      "Epoch 9/50\n",
      "240/240 [==============================] - 5s 19ms/step - loss: 1.0036 - accuracy: 0.5866 - val_loss: 0.9111 - val_accuracy: 0.6167\n",
      "Epoch 10/50\n",
      "240/240 [==============================] - 5s 19ms/step - loss: 0.8847 - accuracy: 0.6451 - val_loss: 0.9525 - val_accuracy: 0.5750\n",
      "Epoch 11/50\n",
      "240/240 [==============================] - 5s 19ms/step - loss: 0.8418 - accuracy: 0.6576 - val_loss: 0.9152 - val_accuracy: 0.6250\n",
      "Epoch 12/50\n",
      "240/240 [==============================] - 5s 19ms/step - loss: 0.7465 - accuracy: 0.6743 - val_loss: 0.9134 - val_accuracy: 0.6417\n",
      "Epoch 13/50\n",
      "240/240 [==============================] - 5s 19ms/step - loss: 0.7894 - accuracy: 0.6597 - val_loss: 1.1265 - val_accuracy: 0.6500\n",
      "Epoch 14/50\n",
      "240/240 [==============================] - 5s 19ms/step - loss: 0.6821 - accuracy: 0.7119 - val_loss: 1.0334 - val_accuracy: 0.6333\n",
      "Epoch 15/50\n",
      "240/240 [==============================] - 5s 19ms/step - loss: 0.6886 - accuracy: 0.7077 - val_loss: 0.8778 - val_accuracy: 0.6667\n",
      "Epoch 16/50\n",
      "240/240 [==============================] - 5s 20ms/step - loss: 0.6675 - accuracy: 0.7370 - val_loss: 1.1815 - val_accuracy: 0.6167\n",
      "Epoch 17/50\n",
      "240/240 [==============================] - 5s 19ms/step - loss: 0.6787 - accuracy: 0.7286 - val_loss: 0.8827 - val_accuracy: 0.6583\n",
      "Epoch 18/50\n",
      "240/240 [==============================] - 5s 19ms/step - loss: 0.6533 - accuracy: 0.7432 - val_loss: 1.0777 - val_accuracy: 0.6667\n",
      "Epoch 19/50\n",
      "240/240 [==============================] - 5s 19ms/step - loss: 0.6749 - accuracy: 0.7182 - val_loss: 1.0806 - val_accuracy: 0.6083\n",
      "Epoch 20/50\n",
      "240/240 [==============================] - 5s 19ms/step - loss: 0.6237 - accuracy: 0.7370 - val_loss: 0.9851 - val_accuracy: 0.6083\n",
      "Epoch 21/50\n",
      "240/240 [==============================] - 5s 20ms/step - loss: 0.5399 - accuracy: 0.7683 - val_loss: 1.1109 - val_accuracy: 0.5833\n",
      "Epoch 22/50\n",
      "240/240 [==============================] - 5s 19ms/step - loss: 0.5133 - accuracy: 0.7996 - val_loss: 1.0031 - val_accuracy: 0.6167\n",
      "Epoch 23/50\n",
      "240/240 [==============================] - 5s 19ms/step - loss: 0.5133 - accuracy: 0.7933 - val_loss: 0.9644 - val_accuracy: 0.6833\n",
      "Epoch 24/50\n",
      "240/240 [==============================] - 5s 20ms/step - loss: 0.5521 - accuracy: 0.7557 - val_loss: 0.9627 - val_accuracy: 0.6333\n",
      "Epoch 25/50\n",
      "240/240 [==============================] - 5s 20ms/step - loss: 0.4979 - accuracy: 0.7850 - val_loss: 1.0941 - val_accuracy: 0.6500\n",
      "Epoch 26/50\n",
      "240/240 [==============================] - 5s 20ms/step - loss: 0.4887 - accuracy: 0.7933 - val_loss: 1.1561 - val_accuracy: 0.6250\n",
      "Epoch 27/50\n",
      "240/240 [==============================] - 5s 20ms/step - loss: 0.4581 - accuracy: 0.8267 - val_loss: 1.2208 - val_accuracy: 0.6083\n",
      "Epoch 28/50\n",
      "240/240 [==============================] - 5s 19ms/step - loss: 0.4368 - accuracy: 0.8413 - val_loss: 1.1850 - val_accuracy: 0.6750\n",
      "Epoch 29/50\n",
      "240/240 [==============================] - 5s 19ms/step - loss: 0.4361 - accuracy: 0.8267 - val_loss: 1.3536 - val_accuracy: 0.6333\n",
      "Epoch 30/50\n",
      "240/240 [==============================] - 5s 19ms/step - loss: 0.4362 - accuracy: 0.8225 - val_loss: 1.1823 - val_accuracy: 0.6417\n",
      "Epoch 31/50\n",
      "240/240 [==============================] - 5s 19ms/step - loss: 0.3817 - accuracy: 0.8392 - val_loss: 1.1852 - val_accuracy: 0.6667\n",
      "Epoch 32/50\n",
      "240/240 [==============================] - 5s 19ms/step - loss: 0.4206 - accuracy: 0.8413 - val_loss: 1.1938 - val_accuracy: 0.6667\n",
      "Epoch 33/50\n",
      "240/240 [==============================] - 5s 19ms/step - loss: 0.3747 - accuracy: 0.8497 - val_loss: 1.2892 - val_accuracy: 0.6167\n",
      "Epoch 34/50\n",
      "240/240 [==============================] - 5s 19ms/step - loss: 0.3518 - accuracy: 0.8601 - val_loss: 1.2210 - val_accuracy: 0.6333\n",
      "Epoch 35/50\n",
      "240/240 [==============================] - 5s 19ms/step - loss: 0.3456 - accuracy: 0.8518 - val_loss: 1.2419 - val_accuracy: 0.6583\n",
      "Epoch 36/50\n",
      "240/240 [==============================] - 5s 19ms/step - loss: 0.3467 - accuracy: 0.8518 - val_loss: 1.2463 - val_accuracy: 0.6667\n",
      "Epoch 37/50\n",
      "240/240 [==============================] - 5s 20ms/step - loss: 0.3174 - accuracy: 0.8810 - val_loss: 1.2795 - val_accuracy: 0.6167\n",
      "Epoch 38/50\n",
      "240/240 [==============================] - 5s 20ms/step - loss: 0.3419 - accuracy: 0.8601 - val_loss: 1.2563 - val_accuracy: 0.6000\n",
      "Epoch 39/50\n",
      "240/240 [==============================] - 5s 20ms/step - loss: 0.2972 - accuracy: 0.8810 - val_loss: 1.3331 - val_accuracy: 0.6667\n",
      "Epoch 40/50\n",
      "240/240 [==============================] - 5s 21ms/step - loss: 0.3731 - accuracy: 0.8497 - val_loss: 1.3866 - val_accuracy: 0.5917\n",
      "Epoch 41/50\n",
      "240/240 [==============================] - 5s 20ms/step - loss: 0.3028 - accuracy: 0.8685 - val_loss: 1.3531 - val_accuracy: 0.6167\n",
      "Epoch 42/50\n",
      "240/240 [==============================] - 5s 21ms/step - loss: 0.3035 - accuracy: 0.8685 - val_loss: 1.3714 - val_accuracy: 0.6083\n",
      "Epoch 43/50\n",
      "240/240 [==============================] - 5s 21ms/step - loss: 0.2861 - accuracy: 0.8664 - val_loss: 1.3313 - val_accuracy: 0.6750\n",
      "Epoch 44/50\n",
      "240/240 [==============================] - 5s 21ms/step - loss: 0.2406 - accuracy: 0.9061 - val_loss: 1.3744 - val_accuracy: 0.6500\n",
      "Epoch 45/50\n",
      "240/240 [==============================] - 5s 21ms/step - loss: 0.2604 - accuracy: 0.8914 - val_loss: 1.3853 - val_accuracy: 0.5750\n",
      "Epoch 46/50\n",
      "240/240 [==============================] - 5s 21ms/step - loss: 0.2694 - accuracy: 0.9040 - val_loss: 1.5945 - val_accuracy: 0.6250\n",
      "Epoch 47/50\n",
      "240/240 [==============================] - 5s 21ms/step - loss: 0.2508 - accuracy: 0.9102 - val_loss: 1.2831 - val_accuracy: 0.6667\n",
      "Epoch 48/50\n",
      "240/240 [==============================] - 5s 21ms/step - loss: 0.2217 - accuracy: 0.9144 - val_loss: 1.5958 - val_accuracy: 0.6167\n",
      "Epoch 49/50\n",
      "240/240 [==============================] - 5s 21ms/step - loss: 0.2401 - accuracy: 0.8998 - val_loss: 1.6806 - val_accuracy: 0.6417\n",
      "Epoch 50/50\n",
      "240/240 [==============================] - 5s 22ms/step - loss: 0.2220 - accuracy: 0.9081 - val_loss: 1.6722 - val_accuracy: 0.6083\n"
     ]
    }
   ],
   "source": [
    "# Define model\n",
    "\n",
    "model = Sequential()\n",
    "\n",
    "model.add(Conv3D(8, (9, 7, 3),input_shape=(1, img_rows, img_cols, 43), activation='relu'))\n",
    "model.add(MaxPooling3D(pool_size=(3, 3, 1)))\n",
    "model.add(BatchNormalization(center=True, scale=True))\n",
    "model.add(Dropout(0.5))\n",
    "\n",
    "model.add(Conv3D(16, (7, 7, 3),input_shape=(1, img_rows, img_cols, 43), activation='relu'))\n",
    "model.add(MaxPooling3D(pool_size=(3, 3,1)))\n",
    "model.add(BatchNormalization(center=True, scale=True))\n",
    "model.add(Dropout(0.5))\n",
    "\n",
    "model.add(Conv3D(32, (6, 4, 1),input_shape=(1, img_rows, img_cols, 43), activation='relu'))\n",
    "model.add(BatchNormalization(center=True, scale=True))\n",
    "model.add(Dropout(0.5))\n",
    "model.add(Flatten())\n",
    "#model.add(Dense(256, activation='relu', kernel_initializer='he_uniform'))\n",
    "model.add(Dense(nb_classes, kernel_initializer='normal'))\n",
    "model.add(Activation('softmax'))\n",
    "\n",
    "model.compile(loss='categorical_crossentropy', optimizer='RMSprop', metrics=['accuracy'])\n",
    "\n",
    "X_train_new, X_val_new, y_train_new,y_val_new =  train_test_split(train_set, Y_train, test_size=0.2, random_state=4)\n",
    "\n",
    "hist = model.fit(X_train_new, y_train_new, validation_data=(X_val_new,y_val_new),batch_size=batch_size,epochs = nb_epoch,shuffle=True)"
   ]
  },
  {
   "cell_type": "code",
   "execution_count": 15,
   "id": "a92c2e84",
   "metadata": {},
   "outputs": [
    {
     "name": "stdout",
     "output_type": "stream",
     "text": [
      "60/60 [==============================] - 0s 6ms/step - loss: 1.6722 - accuracy: 0.6083\n",
      "Test score: 1.6722358465194702\n",
      "Test accuracy: 0.6083333492279053\n",
      "['Solarize_Light2', '_classic_test_patch', 'bmh', 'classic', 'dark_background', 'fast', 'fivethirtyeight', 'ggplot', 'grayscale', 'seaborn', 'seaborn-bright', 'seaborn-colorblind', 'seaborn-dark', 'seaborn-dark-palette', 'seaborn-darkgrid', 'seaborn-deep', 'seaborn-muted', 'seaborn-notebook', 'seaborn-paper', 'seaborn-pastel', 'seaborn-poster', 'seaborn-talk', 'seaborn-ticks', 'seaborn-white', 'seaborn-whitegrid', 'tableau-colorblind10']\n"
     ]
    },
    {
     "data": {
      "image/png": "[encoded data removed]",
      "text/plain": [
       "<Figure size 504x360 with 1 Axes>"
      ]
     },
     "metadata": {
      "needs_background": "light"
     },
     "output_type": "display_data"
    },
    {
     "data": {
      "image/png": "[encoded data removed]",
      "text/plain": [
       "<Figure size 560x400 with 1 Axes>"
      ]
     },
     "metadata": {},
     "output_type": "display_data"
    }
   ],
   "source": [
    "#hist = model.fit(train_set, Y_train, batch_size=batch_size,\n",
    "#         nb_epoch=nb_epoch,validation_split=0.2, show_accuracy=True,\n",
    "#           shuffle=True)\n",
    "#batch_size=32\n",
    "#nb_epoch=120\n",
    " # Evaluate the model\n",
    "score = model.evaluate(X_val_new, y_val_new, batch_size=batch_size)\n",
    "print('Test score:', score[0])\n",
    "print('Test accuracy:', score[1])\n",
    "\n",
    "\n",
    "# Plot the results\n",
    "train_loss=hist.history['loss']\n",
    "val_loss=hist.history['val_loss']\n",
    "train_acc=hist.history['accuracy']\n",
    "val_acc=hist.history['val_accuracy']\n",
    "xc=range(nb_epoch)\n",
    "\n",
    "plt.figure(1,figsize=(7,5))\n",
    "plt.plot(xc,train_loss)\n",
    "plt.plot(xc,val_loss)\n",
    "plt.xlabel('num of Epochs')\n",
    "plt.ylabel('loss')\n",
    "plt.title('train_loss vs val_loss')\n",
    "plt.grid(True)\n",
    "plt.legend(['train','val'])\n",
    "print (plt.style.available) # use bmh, classic,ggplot for big pictures\n",
    "plt.style.use(['classic'])\n",
    "\n",
    "plt.figure(2,figsize=(7,5))\n",
    "plt.plot(xc,train_acc)\n",
    "plt.plot(xc,val_acc)\n",
    "plt.xlabel('num of Epochs')\n",
    "plt.ylabel('accuracy')\n",
    "plt.title('train_acc vs val_acc')\n",
    "plt.grid(True)\n",
    "plt.legend(['train','val'],loc=4)\n",
    "#print plt.style.available # use bmh, classic,ggplot for big pictures\n",
    "plt.style.use(['classic']) "
   ]
  },
  {
   "cell_type": "code",
   "execution_count": null,
   "id": "ec70271e",
   "metadata": {},
   "outputs": [],
   "source": []
  }
 ],
 "metadata": {
  "kernelspec": {
   "display_name": "Python 3",
   "language": "python",
   "name": "python3"
  },
  "language_info": {
   "codemirror_mode": {
    "name": "ipython",
    "version": 3
   },
   "file_extension": ".py",
   "mimetype": "text/x-python",
   "name": "python",
   "nbconvert_exporter": "python",
   "pygments_lexer": "ipython3",
   "version": "3.8.8"
  }
 },
 "nbformat": 4,
 "nbformat_minor": 5
}
